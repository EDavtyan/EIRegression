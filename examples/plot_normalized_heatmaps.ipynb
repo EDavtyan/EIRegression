{
 "cells": [
  {
   "cell_type": "code",
   "execution_count": 16,
   "id": "initial_id",
   "metadata": {
    "ExecuteTime": {
     "end_time": "2024-08-02T14:29:50.772311Z",
     "start_time": "2024-08-02T14:29:50.664157Z"
    },
    "collapsed": true
   },
   "outputs": [],
   "source": [
    "import json\n",
    "import matplotlib.pyplot as plt\n",
    "import seaborn as sns\n",
    "\n",
    "def plot_normalized_heatmaps(json_path):\n",
    "    # Load the JSON data from the file\n",
    "    with open(json_path, \"r\") as file:\n",
    "        data = json.load(file)\n",
    "\n",
    "    # Iterate over each bucket category in the JSON data\n",
    "    for key, buckets in data.items():\n",
    "        # Check if key contains 'buckets' to avoid unexpected keys\n",
    "        if 'buckets' in key:\n",
    "            # Extract the confusion matrices\n",
    "            confusion_matrices = [entry[\"Confusion Matrix\"] for entry in buckets]\n",
    "\n",
    "            # Calculate the average confusion matrix\n",
    "            sum_matrix = None\n",
    "            for matrix in confusion_matrices:\n",
    "                if sum_matrix is None:\n",
    "                    sum_matrix = matrix\n",
    "                else:\n",
    "                    for i in range(len(matrix)):\n",
    "                        for j in range(len(matrix[i])):\n",
    "                            sum_matrix[i][j] += matrix[i][j]\n",
    "\n",
    "            # Normalize each row of the average confusion matrix\n",
    "            average_matrix = [[element / sum(confusion_matrices) for element in row] for row in sum_matrix]\n",
    "            \n",
    "            # Plot the heatmap\n",
    "            plt.figure(figsize=(10, 8))\n",
    "            ax = sns.heatmap(average_matrix, annot=True, fmt=\".2f\", cmap=\"Blues\", cbar_kws={'label': 'Scaled Probability'})\n",
    "            plt.title(f'Heatmap of Normalized Confusion Matrix for {key}')\n",
    "            plt.xlabel('Predicted Class')\n",
    "            plt.ylabel('Actual Class')\n",
    "\n",
    "            # Assuming class labels are consecutive numbers starting from 1\n",
    "            class_labels = [f'Class {i+1}' for i in range(len(average_matrix[0]))]\n",
    "            ax.set_xticklabels(class_labels)\n",
    "            ax.set_yticklabels(class_labels)\n",
    "\n",
    "            plt.show()\n",
    "\n",
    "# Example usage:\n",
    "# plot_normalized_heatmaps('/Users/eddavtyan/Documents/XAI/Projects/EIRegression/examples/RFRegression/results/insurance/results_15_buckets_50_iterations.json')"
   ]
  },
  {
   "cell_type": "code",
   "execution_count": 17,
   "id": "7e8a05cce70bb56f",
   "metadata": {
    "ExecuteTime": {
     "end_time": "2024-08-02T14:37:51.849024Z",
     "start_time": "2024-08-02T14:37:51.846468Z"
    },
    "collapsed": false
   },
   "outputs": [],
   "source": [
    "import json\n",
    "import os\n",
    "import matplotlib.pyplot as plt\n",
    "import seaborn as sns\n",
    "\n",
    "def plot_and_save_normalized_heatmaps(json_path, output_dir, dataset_name):\n",
    "    # Create the output directory if it does not exist\n",
    "    if not os.path.exists(output_dir):\n",
    "        os.makedirs(output_dir)\n",
    "\n",
    "    # Load the JSON data from the file\n",
    "    with open(json_path, \"r\") as file:\n",
    "        data = json.load(file)\n",
    "\n",
    "    # Iterate over each bucket category in the JSON data\n",
    "    for key, buckets in data.items():\n",
    "        # Check if key contains 'buckets' to avoid unexpected keys\n",
    "        if 'buckets' in key:\n",
    "            # Extract the confusion matrices\n",
    "            confusion_matrices = [entry[\"Confusion Matrix\"] for entry in buckets]\n",
    "\n",
    "            # Calculate the average confusion matrix\n",
    "            sum_matrix = None\n",
    "            num_matrices = len(confusion_matrices)\n",
    "            for matrix in confusion_matrices:\n",
    "                if sum_matrix is None:\n",
    "                    sum_matrix = matrix\n",
    "                else:\n",
    "                    for i in range(len(matrix)):\n",
    "                        for j in range(len(matrix[i])):\n",
    "                            sum_matrix[i][j] += matrix[i][j]\n",
    "\n",
    "            # Normalize each row of the average confusion matrix\n",
    "            average_matrix = [[element / num_matrices for element in row] for row in sum_matrix]\n",
    "\n",
    "            # Plot the heatmap\n",
    "            plt.figure(figsize=(10, 8))\n",
    "            ax = sns.heatmap(average_matrix, annot=True, fmt=\".2f\", cmap=\"Blues\", cbar_kws={'label': 'Scaled Probability'})\n",
    "            plt.title(f'Heatmap of Normalized Confusion Matrix: {key} | ({dataset_name})')\n",
    "            plt.xlabel('Predicted Class')\n",
    "            plt.ylabel('Actual Class')\n",
    "\n",
    "            # Assuming class labels are consecutive numbers starting from 1\n",
    "            class_labels = [f'Class {i+1}' for i in range(len(average_matrix[0]))]\n",
    "            ax.set_xticklabels(class_labels)\n",
    "            ax.set_yticklabels(class_labels)\n",
    "\n",
    "            # Save the heatmap to the specified directory\n",
    "            output_path = os.path.join(output_dir, f'{key}_heatmap_{dataset_name}.png')\n",
    "            plt.savefig(output_path)\n",
    "            plt.close()"
   ]
  },
  {
   "cell_type": "code",
   "execution_count": 11,
   "id": "138b621569d58224",
   "metadata": {
    "ExecuteTime": {
     "end_time": "2024-08-02T14:44:19.937969Z",
     "start_time": "2024-08-02T14:44:01.946431Z"
    },
    "collapsed": false
   },
   "outputs": [],
   "source": [
    "\n",
    "# plot_and_save_normalized_heatmaps(json_path='/Users/eddavtyan/Documents/XAI/Projects/EIRegression/examples/RFRegression/results/insurance/results_15_buckets_50_iterations.json', \n",
    "#                                   output_dir='/Users/eddavtyan/Documents/XAI/Projects/EIRegression/examples/RFRegression/results/insurance/heatmaps',\n",
    "#                                   dataset_name = \"RFRegression | 'insurance' dataset\")\n",
    "\n",
    "# plot_and_save_normalized_heatmaps(json_path='/Users/eddavtyan/Documents/XAI/Projects/EIRegression/examples/RFRegression/results/house_16H/results_15_buckets_50_iterations.json', \n",
    "#                                   output_dir='/Users/eddavtyan/Documents/XAI/Projects/EIRegression/examples/RFRegression/results/house_16H/heatmaps',\n",
    "#                                   dataset_name = \"RFRegression | 'house_16H' dataset\")\n",
    "\n",
    "# plot_and_save_normalized_heatmaps(json_path='/Users/eddavtyan/Documents/XAI/Projects/EIRegression/examples/XGBRegression/results/insurance/results_15_buckets_50_iterations.json', \n",
    "#                                   output_dir='/Users/eddavtyan/Documents/XAI/Projects/EIRegression/examples/XGBRegression/results/insurance/heatmaps',\n",
    "#                                   dataset_name = \"XGBRegression | 'insurance' dataset\")\n",
    "\n",
    "# plot_and_save_normalized_heatmaps(json_path='/Users/eddavtyan/Documents/XAI/Projects/EIRegression/examples/XGBRegression/results/house_16H/results_15_buckets_50_iterations.json', \n",
    "#                                   output_dir='/Users/eddavtyan/Documents/XAI/Projects/EIRegression/examples/XGBRegression/results/house_16H/heatmaps',\n",
    "#                                   dataset_name = \"XGBRegression | 'house_16H' dataset\")"
   ]
  },
  {
   "cell_type": "code",
   "execution_count": 12,
   "id": "f5d382fc2d60c9e0",
   "metadata": {
    "ExecuteTime": {
     "end_time": "2024-08-02T14:43:13.114648Z",
     "start_time": "2024-08-02T14:43:02.556342Z"
    },
    "collapsed": false
   },
   "outputs": [],
   "source": [
    "path_RFRegression = '/Users/annadavtyan/Documents/Edgar/XAI/Projects/EIRegression/examples/RFRegression/results/'\n",
    "\n",
    "plot_and_save_normalized_heatmaps(\n",
    "    json_path=os.path.join(path_RFRegression, 'concrete_5_breaks/results_10_buckets_3_iterations.json'), \n",
    "    output_dir=os.path.join(path_RFRegression, 'concrete_5_breaks/heatmaps'),\n",
    "    dataset_name = \"RFRegression | 'concrete_5_breaks' dataset\")\n",
    "    \n",
    "plot_and_save_normalized_heatmaps(\n",
    "    json_path=os.path.join(path_RFRegression, 'bank32NH_3_breaks/results_15_buckets_50_iterations.json'), \n",
    "    output_dir=os.path.join(path_RFRegression, 'bank32NH_3_breaks/heatmaps'),\n",
    "    dataset_name = \"RFRegression | 'bank32NH_3_breaks' dataset\")\n",
    "\n",
    "plot_and_save_normalized_heatmaps(\n",
    "    json_path=os.path.join(path_RFRegression, 'house_16H_5_breaks/results_10_buckets_3_iterations.json'), \n",
    "    output_dir=os.path.join(path_RFRegression, 'house_16H_5_breaks/heatmaps'),\n",
    "    dataset_name = \"RFRegression | 'house_16H_5_breaks' dataset\")\n",
    "\n",
    "plot_and_save_normalized_heatmaps(\n",
    "    json_path=os.path.join(path_RFRegression, 'housing_5_breaks/results_10_buckets_3_iterations.json'), \n",
    "    output_dir=os.path.join(path_RFRegression, 'housing_5_breaks/heatmaps'),\n",
    "    dataset_name = \"RFRegression | 'housing_5_breaks' dataset\")\n",
    "\n",
    "plot_and_save_normalized_heatmaps(\n",
    "    json_path=os.path.join(path_RFRegression, 'insurance_5_breaks/results_10_buckets_3_iterations.json'), \n",
    "    output_dir=os.path.join(path_RFRegression, 'insurance_5_breaks/heatmaps'),\n",
    "    dataset_name = \"RFRegression | 'insurance_5_breaks' dataset\")\n",
    "\n",
    "plot_and_save_normalized_heatmaps(\n",
    "    json_path=os.path.join(path_RFRegression, 'movies_5_breaks/results_10_buckets_3_iterations.json'), \n",
    "    output_dir=os.path.join(path_RFRegression, 'movies_5_breaks/heatmaps'),\n",
    "    dataset_name = \"RFRegression | 'movies_5_breaks' dataset\")"
   ]
  },
  {
   "cell_type": "code",
   "execution_count": 14,
   "id": "88dc554d303f7fe2",
   "metadata": {
    "ExecuteTime": {
     "end_time": "2024-08-02T14:43:20.213437Z",
     "start_time": "2024-08-02T14:43:13.119184Z"
    },
    "collapsed": false
   },
   "outputs": [],
   "source": [
    "path_XGBRegression= '/Users/annadavtyan/Documents/Edgar/XAI/Projects/EIRegression/examples/XGBRegression/results/'\n",
    "\n",
    "plot_and_save_normalized_heatmaps(\n",
    "    json_path=os.path.join(path_XGBRegression, 'concrete_5_breaks/results_10_buckets_3_iterations.json'), \n",
    "    output_dir=os.path.join(path_XGBRegression, 'concrete_5_breaks/heatmaps'),\n",
    "    dataset_name = \"RFRegression | 'concrete_5_breaks' dataset\")\n",
    "    \n",
    "plot_and_save_normalized_heatmaps(\n",
    "    json_path=os.path.join(path_XGBRegression, 'bank32NH_3_breaks/results_15_buckets_50_iterations.json'), \n",
    "    output_dir=os.path.join(path_XGBRegression, 'bank32NH_3_breaks/heatmaps'),\n",
    "    dataset_name = \"RFRegression | 'bank32NH_3_breaks' dataset\")\n",
    "\n",
    "plot_and_save_normalized_heatmaps(\n",
    "    json_path=os.path.join(path_XGBRegression, 'house_16H_5_breaks/results_10_buckets_3_iterations.json'), \n",
    "    output_dir=os.path.join(path_XGBRegression, 'house_16H_5_breaks/heatmaps'),\n",
    "    dataset_name = \"RFRegression | 'house_16H_5_breaks' dataset\")\n",
    "\n",
    "plot_and_save_normalized_heatmaps(\n",
    "    json_path=os.path.join(path_XGBRegression, 'housing_5_breaks/results_10_buckets_3_iterations.json'), \n",
    "    output_dir=os.path.join(path_XGBRegression, 'housing_5_breaks/heatmaps'),\n",
    "    dataset_name = \"RFRegression | 'housing_5_breaks' dataset\")\n",
    "\n",
    "plot_and_save_normalized_heatmaps(\n",
    "    json_path=os.path.join(path_XGBRegression, 'insurance_5_breaks/results_10_buckets_3_iterations.json'), \n",
    "    output_dir=os.path.join(path_XGBRegression, 'insurance_5_breaks/heatmaps'),\n",
    "    dataset_name = \"RFRegression | 'insurance_5_breaks' dataset\")\n",
    "\n",
    "plot_and_save_normalized_heatmaps(\n",
    "    json_path=os.path.join(path_XGBRegression, 'movies_5_breaks/results_10_buckets_3_iterations.json'), \n",
    "    output_dir=os.path.join(path_XGBRegression, 'movies_5_breaks/heatmaps'),\n",
    "    dataset_name = \"RFRegression | 'movies_5_breaks' dataset\")"
   ]
  },
  {
   "cell_type": "code",
   "execution_count": 15,
   "id": "7d2c03ba67c07d46",
   "metadata": {
    "collapsed": false
   },
   "outputs": [
    {
     "ename": "FileNotFoundError",
     "evalue": "[Errno 2] No such file or directory: '/Users/annadavtyan/Documents/Edgar/XAI/Projects/EIRegression/examples/RFRegression/results/bank32NH_5_breaks/results_15_buckets_3_iterations.json'",
     "output_type": "error",
     "traceback": [
      "\u001b[0;31m---------------------------------------------------------------------------\u001b[0m",
      "\u001b[0;31mFileNotFoundError\u001b[0m                         Traceback (most recent call last)",
      "Cell \u001b[0;32mIn[15], line 6\u001b[0m\n\u001b[1;32m      1\u001b[0m plot_and_save_normalized_heatmaps(\n\u001b[1;32m      2\u001b[0m     json_path\u001b[38;5;241m=\u001b[39mos\u001b[38;5;241m.\u001b[39mpath\u001b[38;5;241m.\u001b[39mjoin(path_XGBRegression, \u001b[38;5;124m'\u001b[39m\u001b[38;5;124mbank32NH_5_breaks/results_15_buckets_3_iterations.json\u001b[39m\u001b[38;5;124m'\u001b[39m), \n\u001b[1;32m      3\u001b[0m     output_dir\u001b[38;5;241m=\u001b[39mos\u001b[38;5;241m.\u001b[39mpath\u001b[38;5;241m.\u001b[39mjoin(path_XGBRegression, \u001b[38;5;124m'\u001b[39m\u001b[38;5;124mbank32NH_5_breaks/heatmaps\u001b[39m\u001b[38;5;124m'\u001b[39m),\n\u001b[1;32m      4\u001b[0m     dataset_name \u001b[38;5;241m=\u001b[39m \u001b[38;5;124m\"\u001b[39m\u001b[38;5;124mRFRegression | \u001b[39m\u001b[38;5;124m'\u001b[39m\u001b[38;5;124mbank32NH_5_breaks\u001b[39m\u001b[38;5;124m'\u001b[39m\u001b[38;5;124m dataset\u001b[39m\u001b[38;5;124m\"\u001b[39m)\n\u001b[0;32m----> 6\u001b[0m \u001b[43mplot_and_save_normalized_heatmaps\u001b[49m\u001b[43m(\u001b[49m\n\u001b[1;32m      7\u001b[0m \u001b[43m    \u001b[49m\u001b[43mjson_path\u001b[49m\u001b[38;5;241;43m=\u001b[39;49m\u001b[43mos\u001b[49m\u001b[38;5;241;43m.\u001b[39;49m\u001b[43mpath\u001b[49m\u001b[38;5;241;43m.\u001b[39;49m\u001b[43mjoin\u001b[49m\u001b[43m(\u001b[49m\u001b[43mpath_RFRegression\u001b[49m\u001b[43m,\u001b[49m\u001b[43m \u001b[49m\u001b[38;5;124;43m'\u001b[39;49m\u001b[38;5;124;43mbank32NH_5_breaks/results_15_buckets_3_iterations.json\u001b[39;49m\u001b[38;5;124;43m'\u001b[39;49m\u001b[43m)\u001b[49m\u001b[43m,\u001b[49m\u001b[43m \u001b[49m\n\u001b[1;32m      8\u001b[0m \u001b[43m    \u001b[49m\u001b[43moutput_dir\u001b[49m\u001b[38;5;241;43m=\u001b[39;49m\u001b[43mos\u001b[49m\u001b[38;5;241;43m.\u001b[39;49m\u001b[43mpath\u001b[49m\u001b[38;5;241;43m.\u001b[39;49m\u001b[43mjoin\u001b[49m\u001b[43m(\u001b[49m\u001b[43mpath_RFRegression\u001b[49m\u001b[43m,\u001b[49m\u001b[43m \u001b[49m\u001b[38;5;124;43m'\u001b[39;49m\u001b[38;5;124;43mbank32NH_5_breaks/heatmaps\u001b[39;49m\u001b[38;5;124;43m'\u001b[39;49m\u001b[43m)\u001b[49m\u001b[43m,\u001b[49m\n\u001b[1;32m      9\u001b[0m \u001b[43m    \u001b[49m\u001b[43mdataset_name\u001b[49m\u001b[43m \u001b[49m\u001b[38;5;241;43m=\u001b[39;49m\u001b[43m \u001b[49m\u001b[38;5;124;43m\"\u001b[39;49m\u001b[38;5;124;43mRFRegression | \u001b[39;49m\u001b[38;5;124;43m'\u001b[39;49m\u001b[38;5;124;43mbank32NH_5_breaks\u001b[39;49m\u001b[38;5;124;43m'\u001b[39;49m\u001b[38;5;124;43m dataset\u001b[39;49m\u001b[38;5;124;43m\"\u001b[39;49m\u001b[43m)\u001b[49m\n",
      "Cell \u001b[0;32mIn[10], line 12\u001b[0m, in \u001b[0;36mplot_and_save_normalized_heatmaps\u001b[0;34m(json_path, output_dir, dataset_name)\u001b[0m\n\u001b[1;32m      9\u001b[0m     os\u001b[38;5;241m.\u001b[39mmakedirs(output_dir)\n\u001b[1;32m     11\u001b[0m \u001b[38;5;66;03m# Load the JSON data from the file\u001b[39;00m\n\u001b[0;32m---> 12\u001b[0m \u001b[38;5;28;01mwith\u001b[39;00m \u001b[38;5;28;43mopen\u001b[39;49m\u001b[43m(\u001b[49m\u001b[43mjson_path\u001b[49m\u001b[43m,\u001b[49m\u001b[43m \u001b[49m\u001b[38;5;124;43m\"\u001b[39;49m\u001b[38;5;124;43mr\u001b[39;49m\u001b[38;5;124;43m\"\u001b[39;49m\u001b[43m)\u001b[49m \u001b[38;5;28;01mas\u001b[39;00m file:\n\u001b[1;32m     13\u001b[0m     data \u001b[38;5;241m=\u001b[39m json\u001b[38;5;241m.\u001b[39mload(file)\n\u001b[1;32m     15\u001b[0m \u001b[38;5;66;03m# Iterate over each bucket category in the JSON data\u001b[39;00m\n",
      "File \u001b[0;32m~/Documents/Edgar/XAI/Projects/EIRegression/.venv/lib/python3.9/site-packages/IPython/core/interactiveshell.py:310\u001b[0m, in \u001b[0;36m_modified_open\u001b[0;34m(file, *args, **kwargs)\u001b[0m\n\u001b[1;32m    303\u001b[0m \u001b[38;5;28;01mif\u001b[39;00m file \u001b[38;5;129;01min\u001b[39;00m {\u001b[38;5;241m0\u001b[39m, \u001b[38;5;241m1\u001b[39m, \u001b[38;5;241m2\u001b[39m}:\n\u001b[1;32m    304\u001b[0m     \u001b[38;5;28;01mraise\u001b[39;00m \u001b[38;5;167;01mValueError\u001b[39;00m(\n\u001b[1;32m    305\u001b[0m         \u001b[38;5;124mf\u001b[39m\u001b[38;5;124m\"\u001b[39m\u001b[38;5;124mIPython won\u001b[39m\u001b[38;5;124m'\u001b[39m\u001b[38;5;124mt let you open fd=\u001b[39m\u001b[38;5;132;01m{\u001b[39;00mfile\u001b[38;5;132;01m}\u001b[39;00m\u001b[38;5;124m by default \u001b[39m\u001b[38;5;124m\"\u001b[39m\n\u001b[1;32m    306\u001b[0m         \u001b[38;5;124m\"\u001b[39m\u001b[38;5;124mas it is likely to crash IPython. If you know what you are doing, \u001b[39m\u001b[38;5;124m\"\u001b[39m\n\u001b[1;32m    307\u001b[0m         \u001b[38;5;124m\"\u001b[39m\u001b[38;5;124myou can use builtins\u001b[39m\u001b[38;5;124m'\u001b[39m\u001b[38;5;124m open.\u001b[39m\u001b[38;5;124m\"\u001b[39m\n\u001b[1;32m    308\u001b[0m     )\n\u001b[0;32m--> 310\u001b[0m \u001b[38;5;28;01mreturn\u001b[39;00m \u001b[43mio_open\u001b[49m\u001b[43m(\u001b[49m\u001b[43mfile\u001b[49m\u001b[43m,\u001b[49m\u001b[43m \u001b[49m\u001b[38;5;241;43m*\u001b[39;49m\u001b[43margs\u001b[49m\u001b[43m,\u001b[49m\u001b[43m \u001b[49m\u001b[38;5;241;43m*\u001b[39;49m\u001b[38;5;241;43m*\u001b[39;49m\u001b[43mkwargs\u001b[49m\u001b[43m)\u001b[49m\n",
      "\u001b[0;31mFileNotFoundError\u001b[0m: [Errno 2] No such file or directory: '/Users/annadavtyan/Documents/Edgar/XAI/Projects/EIRegression/examples/RFRegression/results/bank32NH_5_breaks/results_15_buckets_3_iterations.json'"
     ]
    }
   ],
   "source": [
    "plot_and_save_normalized_heatmaps(\n",
    "    json_path=os.path.join(path_XGBRegression, 'bank32NH_5_breaks/results_15_buckets_3_iterations.json'), \n",
    "    output_dir=os.path.join(path_XGBRegression, 'bank32NH_5_breaks/heatmaps'),\n",
    "    dataset_name = \"RFRegression | 'bank32NH_5_breaks' dataset\")\n",
    "\n",
    "plot_and_save_normalized_heatmaps(\n",
    "    json_path=os.path.join(path_RFRegression, 'bank32NH_5_breaks/results_15_buckets_3_iterations.json'), \n",
    "    output_dir=os.path.join(path_RFRegression, 'bank32NH_5_breaks/heatmaps'),\n",
    "    dataset_name = \"RFRegression | 'bank32NH_5_breaks' dataset\")"
   ]
  },
  {
   "cell_type": "code",
   "execution_count": 8,
   "id": "2f49d11f",
   "metadata": {},
   "outputs": [],
   "source": [
    "path_RFRegression = '/Users/annadavtyan/Documents/Edgar/XAI/Projects/EIRegression/examples/RFRegression/results/'\n",
    "path_XGBRegression= '/Users/annadavtyan/Documents/Edgar/XAI/Projects/EIRegression/examples/XGBRegression/results/'\n",
    "\n",
    "plot_and_save_normalized_heatmaps(\n",
    "    json_path=os.path.join(path_XGBRegression, 'bank32NH_3_breaks/results_15_buckets_1_iterations.json'), \n",
    "    output_dir=os.path.join(path_XGBRegression, 'bank32NH_3_breaks/heatmaps'),\n",
    "    dataset_name = \"XGBRegression | 'bank32NH_3_breaks' dataset\")\n",
    "\n",
    "plot_and_save_normalized_heatmaps(\n",
    "    json_path=os.path.join(path_XGBRegression, 'bank32NH_3_breaks/results_15_buckets_50_iterations.json'), \n",
    "    output_dir=os.path.join(path_XGBRegression, 'bank32NH_3_breaks/heatmaps'),\n",
    "    dataset_name = \"XGBRegression | 'bank32NH_3_breaks' dataset\")\n",
    "    \n",
    "plot_and_save_normalized_heatmaps(\n",
    "    json_path=os.path.join(path_RFRegression, 'bank32NH_3_breaks/results_15_buckets_5_iterations.json'), \n",
    "    output_dir=os.path.join(path_RFRegression, 'bank32NH_3_breaks/heatmaps'),\n",
    "    dataset_name = \"RFRegression | 'bank32NH_3_breaks' dataset\")\n",
    "\n",
    "plot_and_save_normalized_heatmaps(\n",
    "    json_path=os.path.join(path_RFRegression, 'bank32NH_3_breaks/results_15_buckets_50_iterations.json'), \n",
    "    output_dir=os.path.join(path_RFRegression, 'bank32NH_3_breaks/heatmaps'),\n",
    "    dataset_name = \"RFRegression | 'bank32NH_3_breaks' dataset\")"
   ]
  },
  {
   "cell_type": "code",
   "execution_count": 9,
   "id": "662f21da",
   "metadata": {},
   "outputs": [],
   "source": [
    "path_RFRegression = '/Users/annadavtyan/Documents/Edgar/XAI/Projects/EIRegression/examples/RFRegression/results/'\n",
    "path_XGBRegression= '/Users/annadavtyan/Documents/Edgar/XAI/Projects/EIRegression/examples/XGBRegression/results/'\n",
    "\n",
    "plot_and_save_normalized_heatmaps(\n",
    "    json_path=os.path.join(path_XGBRegression, 'bank32NH_5_breaks/results_15_buckets_3_iterations.json'), \n",
    "    output_dir=os.path.join(path_XGBRegression, 'bank32NH_5_breaks/heatmaps'),\n",
    "    dataset_name = \"XGBRegression | 'bank32NH_5_breaks' dataset\")"
   ]
  },
  {
   "cell_type": "code",
   "execution_count": 13,
   "id": "563526b3",
   "metadata": {},
   "outputs": [],
   "source": [
    "path_RFRegression = '/Users/annadavtyan/Documents/Edgar/XAI/Projects/EIRegression/examples/RFRegression/results/'\n",
    "path_XGBRegression= '/Users/annadavtyan/Documents/Edgar/XAI/Projects/EIRegression/examples/XGBRegression/results/'\n",
    "\n",
    "plot_and_save_normalized_heatmaps(\n",
    "    json_path=os.path.join(path_XGBRegression, 'concrete_5_breaks/results_10_buckets_3_iterations.json'), \n",
    "    output_dir=os.path.join(path_XGBRegression, 'concrete_5_breaks/heatmaps'),\n",
    "    dataset_name = \"XGBRegression | 'concrete_5_breaks' dataset\")\n",
    "    \n",
    "plot_and_save_normalized_heatmaps(\n",
    "    json_path=os.path.join(path_RFRegression, 'concrete_5_breaks/results_10_buckets_3_iterations.json'), \n",
    "    output_dir=os.path.join(path_RFRegression, 'concrete_5_breaks/heatmaps'),\n",
    "    dataset_name = \"RFRegression | 'concrete_5_breaks' dataset\")"
   ]
  },
  {
   "cell_type": "code",
   "execution_count": 19,
   "id": "f7725b34",
   "metadata": {},
   "outputs": [],
   "source": [
    "path_RFRegression = '/Users/annadavtyan/Documents/Edgar/XAI/Projects/EIRegression/examples/RFRegression/results/'\n",
    "path_XGBRegression= '/Users/annadavtyan/Documents/Edgar/XAI/Projects/EIRegression/examples/XGBRegression/results/'\n",
    "\n",
    "plot_and_save_normalized_heatmaps(\n",
    "    json_path=os.path.join(path_XGBRegression, 'house_16H_3_breaks/results_15_buckets_50_iterations.json'), \n",
    "    output_dir=os.path.join(path_XGBRegression, 'house_16H_3_breaks/heatmaps'),\n",
    "    dataset_name = \"XGBRegression | 'house_16H_3_breaks' dataset\")\n",
    "    \n",
    "plot_and_save_normalized_heatmaps(\n",
    "    json_path=os.path.join(path_RFRegression, 'house_16H_5_breaks/results_10_buckets_3_iterations.json'), \n",
    "    output_dir=os.path.join(path_RFRegression, 'house_16H_5_breaks/heatmaps'),\n",
    "    dataset_name = \"XGBRegression | 'house_16H_5_breaks' dataset\")"
   ]
  },
  {
   "cell_type": "code",
   "execution_count": 23,
   "id": "f41e2648",
   "metadata": {},
   "outputs": [],
   "source": [
    "path_RFRegression = '/Users/annadavtyan/Documents/Edgar/XAI/Projects/EIRegression/examples/RFRegression/results/'\n",
    "path_XGBRegression= '/Users/annadavtyan/Documents/Edgar/XAI/Projects/EIRegression/examples/XGBRegression/results/'\n",
    "\n",
    "plot_and_save_normalized_heatmaps(\n",
    "    json_path=os.path.join(path_XGBRegression, 'housing_5_breaks/results_10_buckets_3_iterations.json'), \n",
    "    output_dir=os.path.join(path_XGBRegression, 'housing_5_breaks/heatmaps'),\n",
    "    dataset_name = \"XGBRegression | 'housing_5_breaks' dataset\")\n",
    "    \n",
    "plot_and_save_normalized_heatmaps(\n",
    "    json_path=os.path.join(path_XGBRegression, 'insurance_3_breaks/results_15_buckets_50_iterations.json'), \n",
    "    output_dir=os.path.join(path_XGBRegression, 'insurance_3_breaks/heatmaps'),\n",
    "    dataset_name = \"XGBRegression | 'insurance_3_breaks' dataset\")\n",
    "\n",
    "plot_and_save_normalized_heatmaps(\n",
    "    json_path=os.path.join(path_XGBRegression, 'insurance_5_breaks/results_10_buckets_3_iterations.json'), \n",
    "    output_dir=os.path.join(path_XGBRegression, 'insurance_5_breaks/heatmaps'),\n",
    "    dataset_name = \"XGBRegression | 'insurance_5_breaks' dataset\")\n",
    "\n",
    "plot_and_save_normalized_heatmaps(\n",
    "    json_path=os.path.join(path_XGBRegression, 'movies_5_breaks/results_10_buckets_3_iterations.json'), \n",
    "    output_dir=os.path.join(path_XGBRegression, 'movies_5_breaks/heatmaps'),\n",
    "    dataset_name = \"XGBRegression | 'movies_5_breaks' dataset\")"
   ]
  },
  {
   "cell_type": "code",
   "execution_count": null,
   "id": "0e437713",
   "metadata": {},
   "outputs": [],
   "source": []
  }
 ],
 "metadata": {
  "kernelspec": {
   "display_name": "Python 3",
   "language": "python",
   "name": "python3"
  },
  "language_info": {
   "codemirror_mode": {
    "name": "ipython",
    "version": 3
   },
   "file_extension": ".py",
   "mimetype": "text/x-python",
   "name": "python",
   "nbconvert_exporter": "python",
   "pygments_lexer": "ipython3",
   "version": "3.9.6"
  }
 },
 "nbformat": 4,
 "nbformat_minor": 5
}
